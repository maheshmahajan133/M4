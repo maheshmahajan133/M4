{
  "nbformat": 4,
  "nbformat_minor": 0,
  "metadata": {
    "colab": {
      "name": "Non Linear Support Vector Machines.ipynb",
      "provenance": [],
      "collapsed_sections": []
    },
    "kernelspec": {
      "name": "python3",
      "display_name": "Python 3"
    },
    "language_info": {
      "name": "python"
    }
  },
  "cells": [
    {
      "cell_type": "code",
      "execution_count": 3,
      "metadata": {
        "id": "ZWj4ZZag18jX"
      },
      "outputs": [],
      "source": [
        "import pandas as pd\n",
        "import numpy as np\n",
        "import matplotlib.pyplot as plt"
      ]
    },
    {
      "cell_type": "code",
      "source": [
        "dataset=pd.read_csv(\"/content/NonLinear kernel Support vector machine/Social_Network_Ads.csv\")\n",
        "X=dataset.iloc[:,:-1].values\n",
        "Y=dataset.iloc[:,-1].values"
      ],
      "metadata": {
        "id": "q9gr5tPMBzej"
      },
      "execution_count": 4,
      "outputs": []
    },
    {
      "cell_type": "code",
      "source": [
        "from sklearn.model_selection import train_test_split\n",
        "X_train,X_test,Y_train,Y_test=train_test_split(X,Y,test_size=0.25,random_state=0)"
      ],
      "metadata": {
        "id": "0DsAyfPNBzq3"
      },
      "execution_count": 5,
      "outputs": []
    },
    {
      "cell_type": "code",
      "source": [
        "from sklearn.preprocessing import StandardScaler\n",
        "sc=StandardScaler()\n",
        "X_train=sc.fit_transform(X_train)\n",
        "X_test=sc.fit_transform(X_test)"
      ],
      "metadata": {
        "id": "uN6IUcC3Bz2Z"
      },
      "execution_count": 7,
      "outputs": []
    },
    {
      "cell_type": "code",
      "source": [
        "from sklearn.svm import SVC\n",
        "classifier=SVC(kernel='rbf',random_state=0)\n",
        "classifier.fit(X_train,Y_train)"
      ],
      "metadata": {
        "colab": {
          "base_uri": "https://localhost:8080/"
        },
        "id": "jHqBXNVbB0C4",
        "outputId": "c5944fa7-693d-42d8-9a6f-d277ccc46f96"
      },
      "execution_count": 9,
      "outputs": [
        {
          "output_type": "execute_result",
          "data": {
            "text/plain": [
              "SVC(random_state=0)"
            ]
          },
          "metadata": {},
          "execution_count": 9
        }
      ]
    },
    {
      "cell_type": "code",
      "source": [
        "X_train"
      ],
      "metadata": {
        "colab": {
          "base_uri": "https://localhost:8080/"
        },
        "id": "eGFvKs9NDtIa",
        "outputId": "0581fda9-2046-4dd5-c749-840970b20630"
      },
      "execution_count": 10,
      "outputs": [
        {
          "output_type": "execute_result",
          "data": {
            "text/plain": [
              "array([[ 0.58164944, -0.88670699],\n",
              "       [-0.60673761,  1.46173768],\n",
              "       [-0.01254409, -0.5677824 ],\n",
              "       [-0.60673761,  1.89663484],\n",
              "       [ 1.37390747, -1.40858358],\n",
              "       [ 1.47293972,  0.99784738],\n",
              "       [ 0.08648817, -0.79972756],\n",
              "       [-0.01254409, -0.24885782],\n",
              "       [-0.21060859, -0.5677824 ],\n",
              "       [-0.21060859, -0.19087153],\n",
              "       [-0.30964085, -1.29261101],\n",
              "       [-0.30964085, -0.5677824 ],\n",
              "       [ 0.38358493,  0.09905991],\n",
              "       [ 0.8787462 , -0.59677555],\n",
              "       [ 2.06713324, -1.17663843],\n",
              "       [ 1.07681071, -0.13288524],\n",
              "       [ 0.68068169,  1.78066227],\n",
              "       [-0.70576986,  0.56295021],\n",
              "       [ 0.77971394,  0.35999821],\n",
              "       [ 0.8787462 , -0.53878926],\n",
              "       [-1.20093113, -1.58254245],\n",
              "       [ 2.1661655 ,  0.93986109],\n",
              "       [-0.01254409,  1.22979253],\n",
              "       [ 0.18552042,  1.08482681],\n",
              "       [ 0.38358493, -0.48080297],\n",
              "       [-0.30964085, -0.30684411],\n",
              "       [ 0.97777845, -0.8287207 ],\n",
              "       [ 0.97777845,  1.8676417 ],\n",
              "       [-0.01254409,  1.25878567],\n",
              "       [-0.90383437,  2.27354572],\n",
              "       [-1.20093113, -1.58254245],\n",
              "       [ 2.1661655 , -0.79972756],\n",
              "       [-1.39899564, -1.46656987],\n",
              "       [ 0.38358493,  2.30253886],\n",
              "       [ 0.77971394,  0.76590222],\n",
              "       [-1.00286662, -0.30684411],\n",
              "       [ 0.08648817,  0.76590222],\n",
              "       [-1.00286662,  0.56295021],\n",
              "       [ 0.28455268,  0.07006676],\n",
              "       [ 0.68068169, -1.26361786],\n",
              "       [-0.50770535, -0.01691267],\n",
              "       [-1.79512465,  0.35999821],\n",
              "       [-0.70576986,  0.12805305],\n",
              "       [ 0.38358493,  0.30201192],\n",
              "       [-0.30964085,  0.07006676],\n",
              "       [-0.50770535,  2.30253886],\n",
              "       [ 0.18552042,  0.04107362],\n",
              "       [ 1.27487521,  2.21555943],\n",
              "       [ 0.77971394,  0.27301877],\n",
              "       [-0.30964085,  0.1570462 ],\n",
              "       [-0.01254409, -0.53878926],\n",
              "       [-0.21060859,  0.1570462 ],\n",
              "       [-0.11157634,  0.24402563],\n",
              "       [-0.01254409, -0.24885782],\n",
              "       [ 2.1661655 ,  1.11381995],\n",
              "       [-1.79512465,  0.35999821],\n",
              "       [ 1.86906873,  0.12805305],\n",
              "       [ 0.38358493, -0.13288524],\n",
              "       [-1.20093113,  0.30201192],\n",
              "       [ 0.77971394,  1.37475825],\n",
              "       [-0.30964085, -0.24885782],\n",
              "       [-1.6960924 , -0.04590581],\n",
              "       [-1.00286662, -0.74174127],\n",
              "       [ 0.28455268,  0.50496393],\n",
              "       [-0.11157634, -1.06066585],\n",
              "       [-1.10189888,  0.59194336],\n",
              "       [ 0.08648817, -0.79972756],\n",
              "       [-1.00286662,  1.54871711],\n",
              "       [-0.70576986,  1.40375139],\n",
              "       [-1.29996338,  0.50496393],\n",
              "       [-0.30964085,  0.04107362],\n",
              "       [-0.11157634,  0.01208048],\n",
              "       [-0.30964085, -0.88670699],\n",
              "       [ 0.8787462 , -1.3505973 ],\n",
              "       [-0.30964085,  2.24455257],\n",
              "       [ 0.97777845,  1.98361427],\n",
              "       [-1.20093113,  0.47597078],\n",
              "       [-1.29996338,  0.27301877],\n",
              "       [ 1.37390747,  1.98361427],\n",
              "       [ 1.27487521, -1.3505973 ],\n",
              "       [-0.30964085, -0.27785096],\n",
              "       [-0.50770535,  1.25878567],\n",
              "       [-0.80480212,  1.08482681],\n",
              "       [ 0.97777845, -1.06066585],\n",
              "       [ 0.28455268,  0.30201192],\n",
              "       [ 0.97777845,  0.76590222],\n",
              "       [-0.70576986, -1.49556302],\n",
              "       [-0.70576986,  0.04107362],\n",
              "       [ 0.48261718,  1.72267598],\n",
              "       [ 2.06713324,  0.18603934],\n",
              "       [-1.99318916, -0.74174127],\n",
              "       [-0.21060859,  1.40375139],\n",
              "       [ 0.38358493,  0.59194336],\n",
              "       [ 0.8787462 , -1.14764529],\n",
              "       [-1.20093113, -0.77073441],\n",
              "       [ 0.18552042,  0.24402563],\n",
              "       [ 0.77971394, -0.30684411],\n",
              "       [ 2.06713324, -0.79972756],\n",
              "       [ 0.77971394,  0.12805305],\n",
              "       [-0.30964085,  0.6209365 ],\n",
              "       [-1.00286662, -0.30684411],\n",
              "       [ 0.18552042, -0.3648304 ],\n",
              "       [ 2.06713324,  2.12857999],\n",
              "       [ 1.86906873, -1.26361786],\n",
              "       [ 1.37390747, -0.91570013],\n",
              "       [ 0.8787462 ,  1.25878567],\n",
              "       [ 1.47293972,  2.12857999],\n",
              "       [-0.30964085, -1.23462472],\n",
              "       [ 1.96810099,  0.91086794],\n",
              "       [ 0.68068169, -0.71274813],\n",
              "       [-1.49802789,  0.35999821],\n",
              "       [ 0.77971394, -1.3505973 ],\n",
              "       [ 0.38358493, -0.13288524],\n",
              "       [-1.00286662,  0.41798449],\n",
              "       [-0.01254409, -0.30684411],\n",
              "       [-1.20093113,  0.41798449],\n",
              "       [-0.90383437, -1.20563157],\n",
              "       [-0.11157634,  0.04107362],\n",
              "       [-1.59706014, -0.42281668],\n",
              "       [ 0.97777845, -1.00267957],\n",
              "       [ 1.07681071, -1.20563157],\n",
              "       [-0.01254409, -0.13288524],\n",
              "       [-1.10189888, -1.52455616],\n",
              "       [ 0.77971394, -1.20563157],\n",
              "       [ 0.97777845,  2.07059371],\n",
              "       [-1.20093113, -1.52455616],\n",
              "       [-0.30964085,  0.79489537],\n",
              "       [ 0.08648817, -0.30684411],\n",
              "       [-1.39899564, -1.23462472],\n",
              "       [-0.60673761, -1.49556302],\n",
              "       [ 0.77971394,  0.53395707],\n",
              "       [-0.30964085, -0.33583725],\n",
              "       [ 1.77003648, -0.27785096],\n",
              "       [ 0.8787462 , -1.03167271],\n",
              "       [ 0.18552042,  0.07006676],\n",
              "       [-0.60673761,  0.8818748 ],\n",
              "       [-1.89415691, -1.40858358],\n",
              "       [-1.29996338,  0.59194336],\n",
              "       [-0.30964085,  0.53395707],\n",
              "       [-1.00286662, -1.089659  ],\n",
              "       [ 1.17584296, -1.43757673],\n",
              "       [ 0.18552042, -0.30684411],\n",
              "       [ 1.17584296, -0.74174127],\n",
              "       [-0.30964085,  0.07006676],\n",
              "       [ 0.18552042,  2.09958685],\n",
              "       [ 0.77971394, -1.089659  ],\n",
              "       [ 0.08648817,  0.04107362],\n",
              "       [-1.79512465,  0.12805305],\n",
              "       [-0.90383437,  0.1570462 ],\n",
              "       [-0.70576986,  0.18603934],\n",
              "       [ 0.8787462 , -1.29261101],\n",
              "       [ 0.18552042, -0.24885782],\n",
              "       [-0.4086731 ,  1.22979253],\n",
              "       [-0.01254409,  0.30201192],\n",
              "       [ 0.38358493,  0.1570462 ],\n",
              "       [ 0.8787462 , -0.65476184],\n",
              "       [ 0.08648817,  0.1570462 ],\n",
              "       [-1.89415691, -1.29261101],\n",
              "       [-0.11157634,  0.30201192],\n",
              "       [-0.21060859, -0.27785096],\n",
              "       [ 0.28455268, -0.50979612],\n",
              "       [-0.21060859,  1.6067034 ],\n",
              "       [ 0.97777845, -1.17663843],\n",
              "       [-0.21060859,  1.63569655],\n",
              "       [ 1.27487521,  1.8676417 ],\n",
              "       [-1.10189888, -0.3648304 ],\n",
              "       [-0.01254409,  0.04107362],\n",
              "       [ 0.08648817, -0.24885782],\n",
              "       [-1.59706014, -1.23462472],\n",
              "       [-0.50770535, -0.27785096],\n",
              "       [ 0.97777845,  0.12805305],\n",
              "       [ 1.96810099, -1.3505973 ],\n",
              "       [ 1.47293972,  0.07006676],\n",
              "       [-0.60673761,  1.37475825],\n",
              "       [ 1.57197197,  0.01208048],\n",
              "       [-0.80480212,  0.30201192],\n",
              "       [ 1.96810099,  0.73690908],\n",
              "       [-1.20093113, -0.50979612],\n",
              "       [ 0.68068169,  0.27301877],\n",
              "       [-1.39899564, -0.42281668],\n",
              "       [ 0.18552042,  0.1570462 ],\n",
              "       [-0.50770535, -1.20563157],\n",
              "       [ 0.58164944,  2.01260742],\n",
              "       [-1.59706014, -1.49556302],\n",
              "       [-0.50770535, -0.53878926],\n",
              "       [ 0.48261718,  1.83864855],\n",
              "       [-1.39899564, -1.089659  ],\n",
              "       [ 0.77971394, -1.37959044],\n",
              "       [-0.30964085, -0.42281668],\n",
              "       [ 1.57197197,  0.99784738],\n",
              "       [ 0.97777845,  1.43274454],\n",
              "       [-0.30964085, -0.48080297],\n",
              "       [-0.11157634,  2.15757314],\n",
              "       [-1.49802789, -0.1038921 ],\n",
              "       [-0.11157634,  1.95462113],\n",
              "       [-0.70576986, -0.33583725],\n",
              "       [-0.50770535, -0.8287207 ],\n",
              "       [ 0.68068169, -1.37959044],\n",
              "       [-0.80480212, -1.58254245],\n",
              "       [-1.89415691, -1.46656987],\n",
              "       [ 1.07681071,  0.12805305],\n",
              "       [ 0.08648817,  1.51972397],\n",
              "       [-0.30964085,  0.09905991],\n",
              "       [ 0.08648817,  0.04107362],\n",
              "       [-1.39899564, -1.3505973 ],\n",
              "       [ 0.28455268,  0.07006676],\n",
              "       [-0.90383437,  0.38899135],\n",
              "       [ 1.57197197, -1.26361786],\n",
              "       [-0.30964085, -0.74174127],\n",
              "       [-0.11157634,  0.1570462 ],\n",
              "       [-0.90383437, -0.65476184],\n",
              "       [-0.70576986, -0.04590581],\n",
              "       [ 0.38358493, -0.45180983],\n",
              "       [-0.80480212,  1.89663484],\n",
              "       [ 1.37390747,  1.28777882],\n",
              "       [ 1.17584296, -0.97368642],\n",
              "       [ 1.77003648,  1.83864855],\n",
              "       [-0.90383437, -0.24885782],\n",
              "       [-0.80480212,  0.56295021],\n",
              "       [-1.20093113, -1.5535493 ],\n",
              "       [-0.50770535, -1.11865214],\n",
              "       [ 0.28455268,  0.07006676],\n",
              "       [-0.21060859, -1.06066585],\n",
              "       [ 1.67100423,  1.6067034 ],\n",
              "       [ 0.97777845,  1.78066227],\n",
              "       [ 0.28455268,  0.04107362],\n",
              "       [-0.80480212, -0.21986468],\n",
              "       [-0.11157634,  0.07006676],\n",
              "       [ 0.28455268, -0.19087153],\n",
              "       [ 1.96810099, -0.65476184],\n",
              "       [-0.80480212,  1.3457651 ],\n",
              "       [-1.79512465, -0.59677555],\n",
              "       [-0.11157634,  0.12805305],\n",
              "       [ 0.28455268, -0.30684411],\n",
              "       [ 1.07681071,  0.56295021],\n",
              "       [-1.00286662,  0.27301877],\n",
              "       [ 1.47293972,  0.35999821],\n",
              "       [ 0.18552042, -0.3648304 ],\n",
              "       [ 2.1661655 , -1.03167271],\n",
              "       [-0.30964085,  1.11381995],\n",
              "       [-1.6960924 ,  0.07006676],\n",
              "       [-0.01254409,  0.04107362],\n",
              "       [ 0.08648817,  1.05583366],\n",
              "       [-0.11157634, -0.3648304 ],\n",
              "       [-1.20093113,  0.07006676],\n",
              "       [-0.30964085, -1.3505973 ],\n",
              "       [ 1.57197197,  1.11381995],\n",
              "       [-0.80480212, -1.52455616],\n",
              "       [ 0.08648817,  1.8676417 ],\n",
              "       [-0.90383437, -0.77073441],\n",
              "       [-0.50770535, -0.77073441],\n",
              "       [-0.30964085, -0.91570013],\n",
              "       [ 0.28455268, -0.71274813],\n",
              "       [ 0.28455268,  0.07006676],\n",
              "       [ 0.08648817,  1.8676417 ],\n",
              "       [-1.10189888,  1.95462113],\n",
              "       [-1.6960924 , -1.5535493 ],\n",
              "       [-1.20093113, -1.089659  ],\n",
              "       [-0.70576986, -0.1038921 ],\n",
              "       [ 0.08648817,  0.09905991],\n",
              "       [ 0.28455268,  0.27301877],\n",
              "       [ 0.8787462 , -0.5677824 ],\n",
              "       [ 0.28455268, -1.14764529],\n",
              "       [-0.11157634,  0.67892279],\n",
              "       [ 2.1661655 , -0.68375498],\n",
              "       [-1.29996338, -1.37959044],\n",
              "       [-1.00286662, -0.94469328],\n",
              "       [-0.01254409, -0.42281668],\n",
              "       [-0.21060859, -0.45180983],\n",
              "       [-1.79512465, -0.97368642],\n",
              "       [ 1.77003648,  0.99784738],\n",
              "       [ 0.18552042, -0.3648304 ],\n",
              "       [ 0.38358493,  1.11381995],\n",
              "       [-1.79512465, -1.3505973 ],\n",
              "       [ 0.18552042, -0.13288524],\n",
              "       [ 0.8787462 , -1.43757673],\n",
              "       [-1.99318916,  0.47597078],\n",
              "       [-0.30964085,  0.27301877],\n",
              "       [ 1.86906873, -1.06066585],\n",
              "       [-0.4086731 ,  0.07006676],\n",
              "       [ 1.07681071, -0.88670699],\n",
              "       [-1.10189888, -1.11865214],\n",
              "       [-1.89415691,  0.01208048],\n",
              "       [ 0.08648817,  0.27301877],\n",
              "       [-1.20093113,  0.33100506],\n",
              "       [-1.29996338,  0.30201192],\n",
              "       [-1.00286662,  0.44697764],\n",
              "       [ 1.67100423, -0.88670699],\n",
              "       [ 1.17584296,  0.53395707],\n",
              "       [ 1.07681071,  0.53395707],\n",
              "       [ 1.37390747,  2.331532  ],\n",
              "       [-0.30964085, -0.13288524],\n",
              "       [ 0.38358493, -0.45180983],\n",
              "       [-0.4086731 , -0.77073441],\n",
              "       [-0.11157634, -0.50979612],\n",
              "       [ 0.97777845, -1.14764529],\n",
              "       [-0.90383437, -0.77073441],\n",
              "       [-0.21060859, -0.50979612],\n",
              "       [-1.10189888, -0.45180983],\n",
              "       [-1.20093113,  1.40375139]])"
            ]
          },
          "metadata": {},
          "execution_count": 10
        }
      ]
    },
    {
      "cell_type": "code",
      "source": [
        "Y_train"
      ],
      "metadata": {
        "colab": {
          "base_uri": "https://localhost:8080/"
        },
        "id": "EqyGiw6lDtUh",
        "outputId": "83f3c196-6e2f-45e8-c494-e4431433331a"
      },
      "execution_count": 11,
      "outputs": [
        {
          "output_type": "execute_result",
          "data": {
            "text/plain": [
              "array([0, 1, 0, 1, 1, 1, 0, 0, 0, 0, 0, 0, 1, 1, 1, 0, 1, 0, 0, 1, 0, 1,\n",
              "       0, 1, 0, 0, 1, 1, 1, 1, 0, 1, 0, 1, 0, 0, 1, 0, 0, 1, 0, 0, 0, 0,\n",
              "       0, 1, 1, 1, 1, 0, 0, 0, 1, 0, 1, 0, 1, 0, 0, 1, 0, 0, 0, 1, 0, 0,\n",
              "       0, 1, 1, 0, 0, 1, 0, 1, 1, 1, 0, 0, 1, 1, 0, 0, 1, 1, 0, 1, 0, 0,\n",
              "       1, 1, 0, 1, 1, 1, 0, 0, 0, 0, 0, 1, 0, 0, 1, 1, 1, 1, 1, 0, 1, 1,\n",
              "       0, 1, 0, 0, 0, 0, 0, 0, 0, 1, 1, 0, 0, 1, 0, 0, 1, 0, 0, 0, 1, 0,\n",
              "       1, 1, 0, 1, 0, 0, 0, 0, 1, 0, 0, 0, 1, 1, 0, 0, 0, 0, 1, 0, 1, 0,\n",
              "       0, 0, 1, 0, 0, 0, 0, 1, 1, 1, 0, 0, 0, 0, 0, 0, 1, 1, 1, 1, 1, 0,\n",
              "       1, 0, 0, 0, 0, 0, 1, 0, 0, 0, 0, 0, 0, 1, 1, 0, 1, 0, 1, 0, 0, 1,\n",
              "       0, 0, 0, 1, 0, 0, 0, 0, 0, 1, 0, 0, 0, 0, 0, 1, 0, 1, 1, 0, 0, 0,\n",
              "       0, 0, 0, 1, 1, 0, 0, 0, 0, 1, 0, 0, 0, 0, 1, 0, 1, 0, 1, 0, 0, 0,\n",
              "       1, 0, 0, 0, 1, 0, 1, 0, 0, 0, 0, 0, 1, 1, 0, 0, 0, 0, 0, 1, 0, 1,\n",
              "       1, 0, 0, 0, 0, 0, 1, 0, 1, 0, 0, 1, 0, 0, 1, 0, 1, 0, 0, 0, 0, 0,\n",
              "       0, 1, 1, 1, 1, 0, 0, 0, 0, 1, 0, 0, 0, 0])"
            ]
          },
          "metadata": {},
          "execution_count": 11
        }
      ]
    },
    {
      "cell_type": "code",
      "source": [
        "classifier.predict(sc.transform([[30,87000]]))"
      ],
      "metadata": {
        "colab": {
          "base_uri": "https://localhost:8080/"
        },
        "id": "up-y5WJoDyax",
        "outputId": "bbb64d61-3776-4eb8-ecbc-c51b09dcb4cc"
      },
      "execution_count": 12,
      "outputs": [
        {
          "output_type": "execute_result",
          "data": {
            "text/plain": [
              "array([0])"
            ]
          },
          "metadata": {},
          "execution_count": 12
        }
      ]
    },
    {
      "cell_type": "code",
      "source": [
        "Y_pred=classifier.predict(X_test)\n",
        "Y_pred"
      ],
      "metadata": {
        "colab": {
          "base_uri": "https://localhost:8080/"
        },
        "id": "JEc5KxH4D_FB",
        "outputId": "7c4717e3-e55a-4942-9c90-fc6f3ab101d1"
      },
      "execution_count": 16,
      "outputs": [
        {
          "output_type": "execute_result",
          "data": {
            "text/plain": [
              "array([0, 0, 0, 0, 0, 0, 0, 1, 0, 1, 0, 0, 0, 0, 0, 1, 0, 0, 1, 0, 0, 1,\n",
              "       0, 1, 0, 1, 0, 0, 0, 0, 0, 0, 1, 0, 0, 0, 0, 0, 0, 1, 0, 0, 0, 0,\n",
              "       1, 0, 0, 1, 0, 1, 1, 0, 0, 1, 1, 1, 0, 0, 1, 0, 0, 1, 0, 1, 0, 1,\n",
              "       0, 0, 0, 0, 1, 0, 0, 1, 0, 0, 0, 0, 1, 1, 1, 1, 0, 0, 1, 0, 0, 1,\n",
              "       1, 0, 0, 1, 0, 0, 0, 0, 0, 1, 1, 1])"
            ]
          },
          "metadata": {},
          "execution_count": 16
        }
      ]
    },
    {
      "cell_type": "code",
      "source": [
        "from sklearn.metrics import confusion_matrix, accuracy_score\n",
        "cm=confusion_matrix(Y_test,Y_pred)\n",
        "print(cm)\n",
        "ac=accuracy_score(Y_test,Y_pred)\n",
        "print(ac)"
      ],
      "metadata": {
        "colab": {
          "base_uri": "https://localhost:8080/"
        },
        "id": "oH0LmMUyERVj",
        "outputId": "7c39f531-6f67-4df4-fcc5-7af55aa7e36e"
      },
      "execution_count": 18,
      "outputs": [
        {
          "output_type": "stream",
          "name": "stdout",
          "text": [
            "[[64  4]\n",
            " [ 3 29]]\n",
            "0.93\n"
          ]
        }
      ]
    },
    {
      "cell_type": "code",
      "source": [
        "#2-d plot age vs probability\n",
        "from matplotlib.colors import ListedColormap\n",
        "X_set, Y_set = sc.inverse_transform(X_train), Y_train\n",
        "X1, X2 = np.meshgrid(np.arange(start = X_set[:, 0].min() - 10, stop = X_set[:, 0].max() + 10, step = 0.5),\n",
        "                     np.arange(start = X_set[:, 1].min() - 100, stop = X_set[:, 1].max() + 100, step = 0.5))\n",
        "plt.contourf(X1, X2, classifier.predict(sc.transform(np.array([X1.ravel(), X2.ravel()]).T)).reshape(X1.shape),\n",
        "             alpha = 0.75, cmap = ListedColormap(('red', 'green')))\n",
        "plt.xlim(X1.min(), X1.max())\n",
        "plt.ylim(X2.min(), X2.max())\n",
        "for i, j in enumerate(np.unique(Y_set)):\n",
        "    plt.scatter(X_set[Y_set == j, 0], X_set[Y_set == j, 1], c = ListedColormap(('red', 'green'))(i), label = j)\n",
        "plt.title('Support vector machine linear classiifer(Training set)')\n",
        "plt.xlabel('Age')\n",
        "plt.ylabel('Estimated Salary')\n",
        "plt.legend()\n",
        "plt.show()"
      ],
      "metadata": {
        "colab": {
          "base_uri": "https://localhost:8080/",
          "height": 352
        },
        "id": "-xkcnvv_FGx6",
        "outputId": "00e58e12-5ae1-4302-a3fa-502476ef6fbf"
      },
      "execution_count": 19,
      "outputs": [
        {
          "output_type": "stream",
          "name": "stderr",
          "text": [
            "*c* argument looks like a single numeric RGB or RGBA sequence, which should be avoided as value-mapping will have precedence in case its length matches with *x* & *y*.  Please use the *color* keyword-argument or provide a 2-D array with a single row if you intend to specify the same RGB or RGBA value for all points.\n",
            "*c* argument looks like a single numeric RGB or RGBA sequence, which should be avoided as value-mapping will have precedence in case its length matches with *x* & *y*.  Please use the *color* keyword-argument or provide a 2-D array with a single row if you intend to specify the same RGB or RGBA value for all points.\n"
          ]
        },
        {
          "output_type": "display_data",
          "data": {
            "image/png": "[encoded data removed]",
            "text/plain": [
              "<Figure size 432x288 with 1 Axes>"
            ]
          },
          "metadata": {
            "needs_background": "light"
          }
        }
      ]
    },
    {
      "cell_type": "code",
      "source": [
        "from matplotlib.colors import ListedColormap\n",
        "X_set, Y_set = sc.inverse_transform(X_test), Y_test\n",
        "X1, X2 = np.meshgrid(np.arange(start = X_set[:, 0].min() - 10, stop = X_set[:, 0].max() + 10, step = 0.5),\n",
        "                     np.arange(start = X_set[:, 1].min() - 100, stop = X_set[:, 1].max() + 100, step = 0.5))\n",
        "plt.contourf(X1, X2, classifier.predict(sc.transform(np.array([X1.ravel(), X2.ravel()]).T)).reshape(X1.shape),\n",
        "             alpha = 0.75, cmap = ListedColormap(('red', 'green')))\n",
        "plt.xlim(X1.min(), X1.max())\n",
        "plt.ylim(X2.min(), X2.max())\n",
        "for i, j in enumerate(np.unique(Y_set)):\n",
        "    plt.scatter(X_set[Y_set == j, 0], X_set[Y_set == j, 1], c = ListedColormap(('red', 'green'))(i), label = j)\n",
        "plt.title('Support vector machine linear classiifer (Test set)')\n",
        "plt.xlabel('Age')\n",
        "plt.ylabel('Estimated Salary')\n",
        "plt.legend()\n",
        "plt.show()"
      ],
      "metadata": {
        "colab": {
          "base_uri": "https://localhost:8080/",
          "height": 352
        },
        "id": "-1-OFtmTFHA4",
        "outputId": "50450e7f-da3e-401e-a887-84160d48a7d1"
      },
      "execution_count": 20,
      "outputs": [
        {
          "output_type": "stream",
          "name": "stderr",
          "text": [
            "*c* argument looks like a single numeric RGB or RGBA sequence, which should be avoided as value-mapping will have precedence in case its length matches with *x* & *y*.  Please use the *color* keyword-argument or provide a 2-D array with a single row if you intend to specify the same RGB or RGBA value for all points.\n",
            "*c* argument looks like a single numeric RGB or RGBA sequence, which should be avoided as value-mapping will have precedence in case its length matches with *x* & *y*.  Please use the *color* keyword-argument or provide a 2-D array with a single row if you intend to specify the same RGB or RGBA value for all points.\n"
          ]
        },
        {
          "output_type": "display_data",
          "data": {
            "image/png": "[encoded data removed]",
            "text/plain": [
              "<Figure size 432x288 with 1 Axes>"
            ]
          },
          "metadata": {
            "needs_background": "light"
          }
        }
      ]
    }
  ]
}